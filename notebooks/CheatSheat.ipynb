{
 "cells": [
  {
   "cell_type": "markdown",
   "id": "a9240dcc",
   "metadata": {},
   "source": [
    "# Import"
   ]
  },
  {
   "cell_type": "code",
   "execution_count": 2,
   "id": "0dbca9b4",
   "metadata": {},
   "outputs": [],
   "source": [
    "# main import\n",
    "from qiskit import *\n",
    "\n",
    "# subpackages need to be seperately imported\n"
   ]
  },
  {
   "cell_type": "markdown",
   "id": "904a8f11",
   "metadata": {},
   "source": [
    "## subpackages"
   ]
  },
  {
   "cell_type": "markdown",
   "id": "c126b778",
   "metadata": {},
   "source": [
    "### Visualisation of Bloch"
   ]
  },
  {
   "cell_type": "code",
   "execution_count": null,
   "id": "fa078449",
   "metadata": {},
   "outputs": [],
   "source": [
    "from qiskit.quantum_info import Statevector  \n",
    "from qiskit.visualization import plot_bloch_multivector"
   ]
  },
  {
   "cell_type": "markdown",
   "id": "1df7031c",
   "metadata": {},
   "source": [
    "### Simulator"
   ]
  },
  {
   "cell_type": "code",
   "execution_count": null,
   "id": "f24ea5a1",
   "metadata": {},
   "outputs": [],
   "source": [
    "from qiskit.providers.basic_provider import BasicSimulator"
   ]
  },
  {
   "cell_type": "markdown",
   "id": "2050b0d3",
   "metadata": {},
   "source": [
    "### History"
   ]
  },
  {
   "cell_type": "code",
   "execution_count": null,
   "id": "31e3267b",
   "metadata": {},
   "outputs": [],
   "source": [
    "from qiskit.visualization import plot_histogram"
   ]
  },
  {
   "cell_type": "markdown",
   "id": "50724d25",
   "metadata": {},
   "source": [
    "# Circuit"
   ]
  },
  {
   "cell_type": "markdown",
   "id": "cb96fd0b",
   "metadata": {},
   "source": [
    "## Generate Circuit"
   ]
  },
  {
   "cell_type": "code",
   "execution_count": null,
   "id": "3e393a31",
   "metadata": {},
   "outputs": [],
   "source": [
    "circuit = QuantumCircuit(1, 1)      # circuit with 1 qubit and 1 classical bit\n",
    "qc = QuantumCircuit(2)              # Make a circuit with 2 qubits (no classical bits)\n",
    "gc = QuantumCircuit(2,2)            # Initialising a circuit with 2 qubits and 2 classical bits\n",
    "qc_ha = QuantumCircuit(4,2)         # Make a circuit with 4 qubits and 2 classical bits"
   ]
  },
  {
   "cell_type": "markdown",
   "id": "9519a11f",
   "metadata": {},
   "source": [
    "## Visualise Circuit"
   ]
  },
  {
   "cell_type": "code",
   "execution_count": null,
   "id": "f40b1a34",
   "metadata": {},
   "outputs": [],
   "source": [
    "print(circuit)\n",
    "circuit.draw()\n",
    "#circuit.draw(output=\"mpl\")\n",
    "circuit.draw(output='latex')\n",
    "\n",
    "# initial_state=True shows the qubit values at the start\n",
    "qc.draw(output='mpl', initial_state=True)  "
   ]
  },
  {
   "cell_type": "markdown",
   "id": "b7dc770c",
   "metadata": {},
   "source": [
    "## Circuit State"
   ]
  },
  {
   "cell_type": "code",
   "execution_count": null,
   "id": "0bbd5a8e",
   "metadata": {},
   "outputs": [],
   "source": [
    "init_state = Statevector(circuit);   \n",
    "print(init_state)  \n",
    "\n",
    "plot_bloch_multivector(init_state)"
   ]
  },
  {
   "cell_type": "markdown",
   "id": "a03000f6",
   "metadata": {},
   "source": [
    "## Circuite Gates"
   ]
  },
  {
   "cell_type": "code",
   "execution_count": null,
   "id": "f1dfa393",
   "metadata": {},
   "outputs": [],
   "source": [
    "circuit.x(0);       # Apply a x-Pauli to the q0 of qc\n",
    "circuit.y(0);       # Apply a y-Pauli to the q0 of qc\n",
    "circuit.z(0);       # Apply a z-Pauli to the q0 of qc\n",
    "\n",
    "circuit.h(0);       # Apply a Hadamard to the q0 of qc\n",
    "\n",
    "qc.cx(0,1)          # Apply a CNOT gate with q0 as the control bit and q1 as the target bit\n",
    "\n",
    "qc_ha.ccx(0,1,3)    # CCNOT with q0, q1 as controls and q3 as target\n",
    "\n",
    "qc_ha.barrier()"
   ]
  },
  {
   "cell_type": "markdown",
   "id": "37baaefe",
   "metadata": {},
   "source": [
    "## Measure Circuit"
   ]
  },
  {
   "cell_type": "code",
   "execution_count": null,
   "id": "91541192",
   "metadata": {},
   "outputs": [],
   "source": [
    "circuit.measure(0, 0); # Measure qubit 0 to the classical bit 0\n",
    "\n",
    "qc_ha.measure(2,0)  # Measure qubit 2 into classical bit 0\n",
    "qc_ha.measure(3,1)  # Measure qubit 3 into classical bit 1"
   ]
  },
  {
   "cell_type": "markdown",
   "id": "a8c99d6d",
   "metadata": {},
   "source": [
    "## Simulate Circuit"
   ]
  },
  {
   "cell_type": "code",
   "execution_count": null,
   "id": "a3d37273",
   "metadata": {},
   "outputs": [],
   "source": [
    "backend = BasicSimulator()\n",
    "\n",
    "# If you do not specify the number of shots, the default is 1024\n",
    "result = backend.run(circuit, shots=2000).result()   \n",
    "\n",
    "# Extract the counts of 0 and 1 measurements\n",
    "counts = result.get_counts()                    \n",
    "plot_histogram(counts)"
   ]
  }
 ],
 "metadata": {
  "kernelspec": {
   "display_name": "quantensim",
   "language": "python",
   "name": "python3"
  },
  "language_info": {
   "codemirror_mode": {
    "name": "ipython",
    "version": 3
   },
   "file_extension": ".py",
   "mimetype": "text/x-python",
   "name": "python",
   "nbconvert_exporter": "python",
   "pygments_lexer": "ipython3",
   "version": "3.10.18"
  }
 },
 "nbformat": 4,
 "nbformat_minor": 5
}
